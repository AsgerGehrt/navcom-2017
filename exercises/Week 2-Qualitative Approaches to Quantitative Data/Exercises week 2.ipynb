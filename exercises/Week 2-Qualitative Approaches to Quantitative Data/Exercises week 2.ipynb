{
 "cells": [
  {
   "cell_type": "markdown",
   "metadata": {},
   "source": [
    "# Exercises week 2: Qualitative Approaches to Quantitative Data\n",
    "\n",
    "John is talking on this week"
   ]
  },
  {
   "cell_type": "markdown",
   "metadata": {},
   "source": [
    "## We have seen graphs\n",
    "\n",
    "We saw network graphs on the lecture. Talk with neighbour for 10 min what do you think is necessary for making one. What is in a network graph, and what is needed.\n",
    "\n",
    "![](https://gephi.files.wordpress.com/2010/05/blog_geolayout6.png)"
   ]
  },
  {
   "cell_type": "markdown",
   "metadata": {},
   "source": [
    "## DAMD data"
   ]
  },
  {
   "cell_type": "markdown",
   "metadata": {},
   "source": [
    "We have received DAMD data, let's explore it as a graph."
   ]
  },
  {
   "cell_type": "code",
   "execution_count": null,
   "metadata": {
    "collapsed": true
   },
   "outputs": [],
   "source": [
    "import pandas as pd"
   ]
  },
  {
   "cell_type": "markdown",
   "metadata": {},
   "source": [
    "If you place the data file in the same directory as this Notebook, it can be read into Python."
   ]
  },
  {
   "cell_type": "code",
   "execution_count": null,
   "metadata": {
    "collapsed": true
   },
   "outputs": [],
   "source": [
    "damd = pd.read_csv(\"20170718 hashtag_damd uncleaned.csv\", index_col=\"tweet_id\")\n",
    "damd.head(3)"
   ]
  },
  {
   "cell_type": "markdown",
   "metadata": {},
   "source": [
    "Describe in words what is the shape of the data? What is an item of data? What do we know about each of the items? Do you already have an idea how would you like to start analyzing such data?"
   ]
  },
  {
   "cell_type": "markdown",
   "metadata": {},
   "source": [
    "## DAMD data as a graph\n",
    "\n",
    "To explore the DAMD data, let's conceptualize how rows are related to one anohter? Let's imagine a graph.\n",
    "\n",
    "We can use Table 2 Net to build such a graph. It will give us a `.gexf` graph file. Open the file with you browser, what does it look like? Is it different shape that the `.csv` file?"
   ]
  },
  {
   "cell_type": "markdown",
   "metadata": {},
   "source": [
    "## Alternative graph creation in Python\n",
    "\n",
    "Ooh it so happens, that [ETHOS Lab has a little code thing to turn a matrix to a graph](https://github.com/ituethoslab/navcom-2017/blob/master/repro/DAMD%20hashtag%20cooccurrence%20graph/DAMD%20hashtag%20cooccurrence%20graph%20construction.ipynb). Please take a look."
   ]
  },
  {
   "cell_type": "code",
   "execution_count": null,
   "metadata": {
    "collapsed": true
   },
   "outputs": [],
   "source": [
    "import networkx as nx\n",
    "\n",
    "# copy+paste the function definition here...\n",
    "#### replace from here\n",
    "def buildHashtagCooccurrenceGraph(tweets):\n",
    "    g = ....\n",
    "    .\n",
    "    .\n",
    "    return g\n",
    "#### replace until here, then run this cell with Ctrl+Enter"
   ]
  },
  {
   "cell_type": "code",
   "execution_count": null,
   "metadata": {
    "collapsed": true
   },
   "outputs": [],
   "source": [
    "damd_graph = buildHashtagCooccurrenceGraph(damd)\n",
    "print(nx.info(damd_graph))"
   ]
  },
  {
   "cell_type": "code",
   "execution_count": null,
   "metadata": {
    "collapsed": true
   },
   "outputs": [],
   "source": [
    "nx.write_gexf(damd_graph, \"damd_graph.gexf\")"
   ]
  },
  {
   "cell_type": "markdown",
   "metadata": {},
   "source": [
    "## Work in Gephi\n",
    "\n",
    "Once we have created the graph, we use Gephi to interactively and visually explore it. Gephi is a popular and powerful tool to visualize and analyze graphs. There are other tools too, of course.\n",
    "\n",
    "Most of Thursday is spent in Gephi."
   ]
  },
  {
   "cell_type": "markdown",
   "metadata": {},
   "source": [
    "## Example graph\n",
    "\n",
    "Here is an example visualization of DAMD data. It is a hashtag cooccurrence graph, with <span style=\"color: salmon;\">red tweets</span> and <span style=\"color: lightgreen;\">green hashtag</span>. Top hashtags labels are shown. The central node, the one for hashtag `#damd` has been removed.\n",
    "\n",
    "![](hashtag-cooccurrence-bipartite-with-table2net.png)\n",
    "\n",
    "The process for producing the above, in Gephi, was approximately as follows:\n",
    "\n",
    "1. Run *ForceAtlas2* to position the nodes\n",
    "1. Set gravity to 0.01, and enable stronger gravity\n",
    "1. Show labels, and increase label size\n",
    "1. Filter out the central node, using NOT operator and it's degree value\n",
    "1. Color the nodes by attribute `Type`\n",
    "1. Filter nodes with degree over 15, and hide the values of other nodes ![]( https://github.com/gephi/gephi/raw/6efb108718fa67d1055160f3a18b63edb4ca7be2/modules/DesktopFilters/src/main/resources/org/gephi/desktop/filters/resources/labelvisible_export.png)\n",
    "1. Tweak visual settings, e.g. set node opacity to 50%\n",
    "1. Export to PNG file"
   ]
  },
  {
   "cell_type": "markdown",
   "metadata": {},
   "source": [
    "## Homework: help John\n",
    "\n",
    "What qualitative questions come up when you explored the graphs? What quantitative questions came up?\n",
    "\n",
    "Think about how is what you did today answering what John is trying to research. How would you tweak it (in your mind?). How would you sketch it? How would your tweaks look like? Tweaks are conceptual, not code"
   ]
  }
 ],
 "metadata": {
  "kernelspec": {
   "display_name": "Python 3",
   "language": "python",
   "name": "python3"
  },
  "language_info": {
   "codemirror_mode": {
    "name": "ipython",
    "version": 3
   },
   "file_extension": ".py",
   "mimetype": "text/x-python",
   "name": "python",
   "nbconvert_exporter": "python",
   "pygments_lexer": "ipython3",
   "version": "3.6.2"
  }
 },
 "nbformat": 4,
 "nbformat_minor": 2
}
