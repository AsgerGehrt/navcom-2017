{
 "cells": [
  {
   "cell_type": "markdown",
   "metadata": {},
   "source": [
    "# Exercises week 2: Qualitative Approaches to Quantitative Data\n",
    "\n",
    "John is talking on this week"
   ]
  },
  {
   "cell_type": "markdown",
   "metadata": {},
   "source": [
    "## We have seen Gephi\n",
    "\n",
    "We saw network graphs on the lecture. Talk with neighbour for 7.5 min what do you think is necessary for making one. What is in a network graph, and what is needed.\n",
    "\n",
    "![](https://gephi.files.wordpress.com/2010/05/blog_geolayout6.png)"
   ]
  },
  {
   "cell_type": "markdown",
   "metadata": {},
   "source": [
    "## DAMD data"
   ]
  },
  {
   "cell_type": "code",
   "execution_count": 1,
   "metadata": {
    "collapsed": true
   },
   "outputs": [],
   "source": [
    "import pandas as pd"
   ]
  },
  {
   "cell_type": "code",
   "execution_count": null,
   "metadata": {
    "collapsed": true
   },
   "outputs": [],
   "source": [
    "damd = pd.read_csv(\"\")\n",
    "damd.head()"
   ]
  },
  {
   "cell_type": "markdown",
   "metadata": {},
   "source": [
    "Describe in words what is the shape of the data? What is an item of data? What do we know about each of the items? Do you already have an idea how would you like to start analyzing such data?"
   ]
  },
  {
   "cell_type": "markdown",
   "metadata": {},
   "source": [
    "## Work in Gephi\n",
    "\n",
    "Do this, do that, it's all safe. This should take most of Thursday"
   ]
  },
  {
   "cell_type": "markdown",
   "metadata": {},
   "source": [
    "## Replicate in Notebook\n",
    "\n",
    "Ooh it so happens, that [ETHOS Lab has a little code thing to turn a matrix to a graph](). Copy paste the code here."
   ]
  },
  {
   "cell_type": "code",
   "execution_count": null,
   "metadata": {
    "collapsed": true
   },
   "outputs": [],
   "source": [
    "import networkx as nx\n",
    "import matplotlib\n",
    "\n",
    "# ...\n",
    "\n",
    "def tweetsToGraph(data):\n",
    "    g = data.foreach(makenode, makeedges)\n",
    "    return g\n",
    "\n",
    "# damd_graph = nx.from_gephi_output(damd.graphml)\n",
    "damd_graph = damdToGraph(damd)\n",
    "matplotlib.plot(damd_graph)"
   ]
  },
  {
   "cell_type": "markdown",
   "metadata": {},
   "source": [
    "## Homework: help John\n",
    "\n",
    "Think about how is what you did today answering what John is trying to research. How would you tweak it (in your mind?). How would you sketch it? How would your tweaks look like? Tweaks are conceptual, not code"
   ]
  }
 ],
 "metadata": {
  "kernelspec": {
   "display_name": "Python 3",
   "language": "python",
   "name": "python3"
  },
  "language_info": {
   "codemirror_mode": {
    "name": "ipython",
    "version": 3
   },
   "file_extension": ".py",
   "mimetype": "text/x-python",
   "name": "python",
   "nbconvert_exporter": "python",
   "pygments_lexer": "ipython3",
   "version": "3.6.2"
  }
 },
 "nbformat": 4,
 "nbformat_minor": 2
}
