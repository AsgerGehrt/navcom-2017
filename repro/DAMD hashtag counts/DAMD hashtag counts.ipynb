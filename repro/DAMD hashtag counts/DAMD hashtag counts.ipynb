{
 "cells": [
  {
   "cell_type": "markdown",
   "metadata": {},
   "source": [
    "# DAMD hashtag counts\n",
    "\n",
    "What other hashtags appear in the DAMD data than `#damd`. Which ones are popular, and how are the hashtags distributed?"
   ]
  },
  {
   "cell_type": "code",
   "execution_count": 1,
   "metadata": {
    "collapsed": true
   },
   "outputs": [],
   "source": [
    "import pandas as pd\n",
    "import matplotlib.pyplot as plt\n",
    "\n",
    "%matplotlib inline"
   ]
  },
  {
   "cell_type": "markdown",
   "metadata": {},
   "source": [
    "Read the data, fill in the data file below."
   ]
  },
  {
   "cell_type": "code",
   "execution_count": 2,
   "metadata": {},
   "outputs": [
    {
     "data": {
      "text/html": [
       "<div>\n",
       "<style>\n",
       "    .dataframe thead tr:only-child th {\n",
       "        text-align: right;\n",
       "    }\n",
       "\n",
       "    .dataframe thead th {\n",
       "        text-align: left;\n",
       "    }\n",
       "\n",
       "    .dataframe tbody tr th {\n",
       "        vertical-align: top;\n",
       "    }\n",
       "</style>\n",
       "<table border=\"1\" class=\"dataframe\">\n",
       "  <thead>\n",
       "    <tr style=\"text-align: right;\">\n",
       "      <th></th>\n",
       "      <th>Unnamed: 0</th>\n",
       "      <th>user_id</th>\n",
       "      <th>user_name</th>\n",
       "      <th>reply_to_id</th>\n",
       "      <th>created</th>\n",
       "      <th>message</th>\n",
       "      <th>geodata</th>\n",
       "      <th>place_id</th>\n",
       "      <th>place_type</th>\n",
       "      <th>place_name</th>\n",
       "      <th>place_country</th>\n",
       "      <th>language</th>\n",
       "      <th>retweet_count</th>\n",
       "      <th>hashtags</th>\n",
       "      <th>user_mentions_name</th>\n",
       "      <th>user_mentions_id</th>\n",
       "      <th>urls</th>\n",
       "      <th>media_id</th>\n",
       "      <th>media_type</th>\n",
       "      <th>media_url</th>\n",
       "    </tr>\n",
       "    <tr>\n",
       "      <th>tweet_id</th>\n",
       "      <th></th>\n",
       "      <th></th>\n",
       "      <th></th>\n",
       "      <th></th>\n",
       "      <th></th>\n",
       "      <th></th>\n",
       "      <th></th>\n",
       "      <th></th>\n",
       "      <th></th>\n",
       "      <th></th>\n",
       "      <th></th>\n",
       "      <th></th>\n",
       "      <th></th>\n",
       "      <th></th>\n",
       "      <th></th>\n",
       "      <th></th>\n",
       "      <th></th>\n",
       "      <th></th>\n",
       "      <th></th>\n",
       "      <th></th>\n",
       "    </tr>\n",
       "  </thead>\n",
       "  <tbody>\n",
       "    <tr>\n",
       "      <th>885401672448589824</th>\n",
       "      <td>1</td>\n",
       "      <td>43302304</td>\n",
       "      <td>Motor Mavens</td>\n",
       "      <td>NaN</td>\n",
       "      <td>Thu Jul 13 07:33:03 +0000 2017</td>\n",
       "      <td>The @oemaudioplus #86Vantage's interior just l...</td>\n",
       "      <td>NaN</td>\n",
       "      <td>NaN</td>\n",
       "      <td>NaN</td>\n",
       "      <td>NaN</td>\n",
       "      <td>NaN</td>\n",
       "      <td>en</td>\n",
       "      <td>0</td>\n",
       "      <td>86Vantage;DAMD</td>\n",
       "      <td>OEM AUDIO PLUS</td>\n",
       "      <td>137555927</td>\n",
       "      <td>http://fb.me/6IdLxl68T</td>\n",
       "      <td>NaN</td>\n",
       "      <td>NaN</td>\n",
       "      <td>NaN</td>\n",
       "    </tr>\n",
       "    <tr>\n",
       "      <th>772829925279752196</th>\n",
       "      <td>2</td>\n",
       "      <td>94512824</td>\n",
       "      <td>Caspar de Kiefte</td>\n",
       "      <td>NaN</td>\n",
       "      <td>Mon Sep 05 16:13:07 +0000 2016</td>\n",
       "      <td>#DAMD -&amp;gt; via Kunstenbond onderdeel van inte...</td>\n",
       "      <td>NaN</td>\n",
       "      <td>NaN</td>\n",
       "      <td>NaN</td>\n",
       "      <td>NaN</td>\n",
       "      <td>NaN</td>\n",
       "      <td>nl</td>\n",
       "      <td>0</td>\n",
       "      <td>DAMD</td>\n",
       "      <td>NaN</td>\n",
       "      <td>NaN</td>\n",
       "      <td>http://damd.nl/nieuws/damd-via-kunstenbond-ver...</td>\n",
       "      <td>NaN</td>\n",
       "      <td>NaN</td>\n",
       "      <td>NaN</td>\n",
       "    </tr>\n",
       "    <tr>\n",
       "      <th>828122222111764480</th>\n",
       "      <td>3</td>\n",
       "      <td>798400767975686144</td>\n",
       "      <td>Bec</td>\n",
       "      <td>NaN</td>\n",
       "      <td>Sun Feb 05 06:04:58 +0000 2017</td>\n",
       "      <td>@Budah96 @sarahbuya4 #Damd Olivia went and too...</td>\n",
       "      <td>NaN</td>\n",
       "      <td>NaN</td>\n",
       "      <td>NaN</td>\n",
       "      <td>NaN</td>\n",
       "      <td>NaN</td>\n",
       "      <td>en</td>\n",
       "      <td>0</td>\n",
       "      <td>Damd;Damd;Scandal;sogood</td>\n",
       "      <td>Spider-Paco The 🌮;Sarah</td>\n",
       "      <td>165599878;53990004</td>\n",
       "      <td>NaN</td>\n",
       "      <td>NaN</td>\n",
       "      <td>NaN</td>\n",
       "      <td>NaN</td>\n",
       "    </tr>\n",
       "  </tbody>\n",
       "</table>\n",
       "</div>"
      ],
      "text/plain": [
       "                    Unnamed: 0             user_id         user_name  \\\n",
       "tweet_id                                                               \n",
       "885401672448589824           1            43302304      Motor Mavens   \n",
       "772829925279752196           2            94512824  Caspar de Kiefte   \n",
       "828122222111764480           3  798400767975686144               Bec   \n",
       "\n",
       "                    reply_to_id                         created  \\\n",
       "tweet_id                                                          \n",
       "885401672448589824          NaN  Thu Jul 13 07:33:03 +0000 2017   \n",
       "772829925279752196          NaN  Mon Sep 05 16:13:07 +0000 2016   \n",
       "828122222111764480          NaN  Sun Feb 05 06:04:58 +0000 2017   \n",
       "\n",
       "                                                              message geodata  \\\n",
       "tweet_id                                                                        \n",
       "885401672448589824  The @oemaudioplus #86Vantage's interior just l...     NaN   \n",
       "772829925279752196  #DAMD -&gt; via Kunstenbond onderdeel van inte...     NaN   \n",
       "828122222111764480  @Budah96 @sarahbuya4 #Damd Olivia went and too...     NaN   \n",
       "\n",
       "                   place_id place_type place_name place_country language  \\\n",
       "tweet_id                                                                   \n",
       "885401672448589824      NaN        NaN        NaN           NaN       en   \n",
       "772829925279752196      NaN        NaN        NaN           NaN       nl   \n",
       "828122222111764480      NaN        NaN        NaN           NaN       en   \n",
       "\n",
       "                    retweet_count                  hashtags  \\\n",
       "tweet_id                                                      \n",
       "885401672448589824              0            86Vantage;DAMD   \n",
       "772829925279752196              0                      DAMD   \n",
       "828122222111764480              0  Damd;Damd;Scandal;sogood   \n",
       "\n",
       "                         user_mentions_name    user_mentions_id  \\\n",
       "tweet_id                                                          \n",
       "885401672448589824           OEM AUDIO PLUS           137555927   \n",
       "772829925279752196                      NaN                 NaN   \n",
       "828122222111764480  Spider-Paco The 🌮;Sarah  165599878;53990004   \n",
       "\n",
       "                                                                 urls  \\\n",
       "tweet_id                                                                \n",
       "885401672448589824                             http://fb.me/6IdLxl68T   \n",
       "772829925279752196  http://damd.nl/nieuws/damd-via-kunstenbond-ver...   \n",
       "828122222111764480                                                NaN   \n",
       "\n",
       "                   media_id media_type media_url  \n",
       "tweet_id                                          \n",
       "885401672448589824      NaN        NaN       NaN  \n",
       "772829925279752196      NaN        NaN       NaN  \n",
       "828122222111764480      NaN        NaN       NaN  "
      ]
     },
     "execution_count": 2,
     "metadata": {},
     "output_type": "execute_result"
    }
   ],
   "source": [
    "damd = pd.read_csv(\"\", index_col=\"tweet_id\")\n",
    "damd['hashtags'] = damd['hashtags'].astype(str)\n",
    "damd.head(3)"
   ]
  },
  {
   "cell_type": "markdown",
   "metadata": {},
   "source": [
    "First, build an inverse index of hashtags to tweets, as a Python `dict` of the shape.\n",
    "\n",
    "    {'hashtag1': [tweet_1, tweet_2, ...],\n",
    "     'hashtag2': [tweet_2, tweet_3, ...],\n",
    "     ⋮\n",
    "     }\n",
    "\n",
    "For this, we will extract the `hashtags` column which is itself a varying length."
   ]
  },
  {
   "cell_type": "code",
   "execution_count": 3,
   "metadata": {
    "collapsed": true
   },
   "outputs": [],
   "source": [
    "hashtags = {}\n",
    "for (tweet, hashtagsinthistweet) in damd['hashtags'].map(lambda l: l.split(';')).items():\n",
    "    for hashtag in hashtagsinthistweet:\n",
    "        hashtag = hashtag.lower()\n",
    "        if hasthag not in hashtags.keys():\n",
    "            hashtags[hashtag] = [t]\n",
    "        else:\n",
    "            hashtags[hashtag].append(t)"
   ]
  },
  {
   "cell_type": "markdown",
   "metadata": {},
   "source": [
    "We can remove the `damd` hashtag, since in our data every single item has it, and thus it carries no information."
   ]
  },
  {
   "cell_type": "code",
   "execution_count": 4,
   "metadata": {
    "collapsed": true
   },
   "outputs": [],
   "source": [
    "hashtags.pop('damd'); # semicolon at the end of the line suspends output"
   ]
  },
  {
   "cell_type": "markdown",
   "metadata": {},
   "source": [
    "Next, build a `pandas.Series` of the number of tweets each hashtag is used in, from the above reverse index."
   ]
  },
  {
   "cell_type": "code",
   "execution_count": 5,
   "metadata": {},
   "outputs": [
    {
     "data": {
      "text/plain": [
       "count    803.000000\n",
       "mean       3.557908\n",
       "std       14.968465\n",
       "min        1.000000\n",
       "25%        1.000000\n",
       "50%        1.000000\n",
       "75%        2.000000\n",
       "max      290.000000\n",
       "Name: count, dtype: float64"
      ]
     },
     "execution_count": 5,
     "metadata": {},
     "output_type": "execute_result"
    }
   ],
   "source": [
    "counts = pd.Series([len(hashtags[h]) for h in hashtags.keys()], name=\"count\", index=hashtags.keys())\n",
    "counts.describe()"
   ]
  },
  {
   "cell_type": "markdown",
   "metadata": {},
   "source": [
    "Ok that looks like *long-tailed* distribution. Let's look at a 10 bin histogram."
   ]
  },
  {
   "cell_type": "code",
   "execution_count": 6,
   "metadata": {},
   "outputs": [
    {
     "data": {
      "text/plain": [
       "<matplotlib.axes._subplots.AxesSubplot at 0x1044def28>"
      ]
     },
     "execution_count": 6,
     "metadata": {},
     "output_type": "execute_result"
    },
    {
     "data": {
      "image/png": "[encoded data removed]",
      "text/plain": [
       "<matplotlib.figure.Figure at 0x106f027b8>"
      ]
     },
     "metadata": {},
     "output_type": "display_data"
    }
   ],
   "source": [
    "counts.hist()"
   ]
  },
  {
   "cell_type": "markdown",
   "metadata": {},
   "source": [
    "Let's inspect the topmost hashtags, say those which occur more often than 5 times."
   ]
  },
  {
   "cell_type": "code",
   "execution_count": 7,
   "metadata": {
    "scrolled": false
   },
   "outputs": [
    {
     "data": {
      "image/png": "[encoded data removed]",
      "text/plain": [
       "<matplotlib.figure.Figure at 0x10803c908>"
      ]
     },
     "metadata": {},
     "output_type": "display_data"
    }
   ],
   "source": [
    "ax = counts.loc[counts > 5].sort_values().plot.barh(grid=True, figsize=(5, 15), title=\"Hashtag occurrences, ignored case (count > 5)\")\n",
    "for (patch, hashtag) in zip(ax.patches, counts.loc[counts > 5].sort_values()):\n",
    "    ax.annotate(hashtag, (patch.get_width() + 5, patch.get_y()))"
   ]
  }
 ],
 "metadata": {
  "kernelspec": {
   "display_name": "Python 3",
   "language": "python",
   "name": "python3"
  },
  "language_info": {
   "codemirror_mode": {
    "name": "ipython",
    "version": 3
   },
   "file_extension": ".py",
   "mimetype": "text/x-python",
   "name": "python",
   "nbconvert_exporter": "python",
   "pygments_lexer": "ipython3",
   "version": "3.6.2"
  }
 },
 "nbformat": 4,
 "nbformat_minor": 2
}
