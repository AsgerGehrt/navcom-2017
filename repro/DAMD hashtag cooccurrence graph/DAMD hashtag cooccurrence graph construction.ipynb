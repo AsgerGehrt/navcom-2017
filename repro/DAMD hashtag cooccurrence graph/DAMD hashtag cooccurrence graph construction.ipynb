{
 "cells": [
  {
   "cell_type": "markdown",
   "metadata": {},
   "source": [
    "# DAMD hashtag cooccurrence graph (re)construction\n",
    "\n",
    "Let's look at the shape of the data about DAMD and see how to computationally construct a graph, and how that compares to doing so with an interactive tool, such as [*Table 2 Net*](http://tools.medialab.sciences-po.fr/table2net/).\n",
    "\n",
    "![](http://tools.medialab.sciences-po.fr/table2net/res/header.png)"
   ]
  },
  {
   "cell_type": "markdown",
   "metadata": {},
   "source": [
    "## Reading the data from a file into Python\n",
    "\n",
    "Ok we have received a nice data file. First we can take a look with Excel, or a text editor. Assuming the file `20170718 hashtag_damd uncleaned.csv` has been placed in the same directory as this notebook, we can also take a peek in Python."
   ]
  },
  {
   "cell_type": "code",
   "execution_count": 2,
   "metadata": {
    "collapsed": true
   },
   "outputs": [],
   "source": [
    "# first we want some Python tools to make our lives easier\n",
    "\n",
    "import pandas as pd\n",
    "import numpy as np\n",
    "import networkx as nx\n",
    "import matplotlib.pyplot as plt\n",
    "\n",
    "%matplotlib inline"
   ]
  },
  {
   "cell_type": "code",
   "execution_count": 2,
   "metadata": {},
   "outputs": [
    {
     "name": "stdout",
     "output_type": "stream",
     "text": [
      "\"\",\"tweet_id\",\"user_id\",\"user_name\",\"reply_to_id\",\"created\",\"message\",\"geodata\",\"place_id\",\"place_type\",\"place_name\",\"place_country\",\"language\",\"retweet_count\",\"hashtags\",\"user_mentions_name\",\"user_mentions_id\",\"urls\",\"media_id\",\"media_type\",\"media_url\"\n",
      "\n",
      "\"1\",\"885401672448589824\",43302304,\"Motor Mavens\",\"NULL\",\"Thu Jul 13 07:33:03 +0000 2017\",\"The @oemaudioplus #86Vantage's interior just looks so #DAMD upscale! And sounds upscale too. The crisp sound and... https://t.co/bUXNNPNHbQ\",\"NULL\",\"NULL\",\"NULL\",\"NULL\",\"NULL\",\"en\",0,\"86Vantage;DAMD\",\"OEM AUDIO PLUS\",\"137555927\",\"http://fb.me/6IdLxl68T\",\"NULL\",\"NULL\",\"NULL\"\n",
      "\n",
      "\"2\",\"772829925279752196\",94512824,\"Caspar de Kiefte\",\"NULL\",\"Mon Sep 05 16:13:07 +0000 2016\",\"#DAMD -&gt; via Kunstenbond onderdeel van internationaal netwerk waaronder Directors Guild of America https://t.co/qGBOMakAQ8\",\"NULL\",\"NULL\",\"NULL\",\"NULL\",\"NULL\",\"nl\",0,\"DAMD\",\"NULL\",\"NULL\",\"http://damd.nl/nieuws/damd-via-kunstenbond-verbonden-in-internationaal-netwerk/\",\"NULL\",\"NULL\",\"NULL\"\n",
      "\n"
     ]
    }
   ],
   "source": [
    "with open(\"20170718 hashtag_damd uncleaned.csv\") as fd:\n",
    "    for row in fd.readlines()[:3]:\n",
    "        print(row)"
   ]
  },
  {
   "cell_type": "markdown",
   "metadata": {},
   "source": [
    "That looks like a comma-separated value (CSV) file. There are many other kinds of files for data, but these are quite typical. In a CSV, each line is a data item (a tweet in this case), and columns are variables for each item. We call such a thing a *data frame*."
   ]
  },
  {
   "cell_type": "code",
   "execution_count": 4,
   "metadata": {
    "collapsed": true
   },
   "outputs": [],
   "source": [
    "damd = pd.read_csv(\"20170718 hashtag_damd uncleaned.csv\")"
   ]
  },
  {
   "cell_type": "markdown",
   "metadata": {},
   "source": [
    "What variables do we have?"
   ]
  },
  {
   "cell_type": "code",
   "execution_count": 5,
   "metadata": {},
   "outputs": [
    {
     "data": {
      "text/plain": [
       "Index(['Unnamed: 0', 'tweet_id', 'user_id', 'user_name', 'reply_to_id',\n",
       "       'created', 'message', 'geodata', 'place_id', 'place_type', 'place_name',\n",
       "       'place_country', 'language', 'retweet_count', 'hashtags',\n",
       "       'user_mentions_name', 'user_mentions_id', 'urls', 'media_id',\n",
       "       'media_type', 'media_url'],\n",
       "      dtype='object')"
      ]
     },
     "execution_count": 5,
     "metadata": {},
     "output_type": "execute_result"
    }
   ],
   "source": [
    "damd.columns"
   ]
  },
  {
   "cell_type": "markdown",
   "metadata": {},
   "source": [
    "Let's decide to use the `tweet_id` as index. It is an unique identifier for the tweets."
   ]
  },
  {
   "cell_type": "code",
   "execution_count": 6,
   "metadata": {},
   "outputs": [
    {
     "data": {
      "text/html": [
       "<div>\n",
       "<style>\n",
       "    .dataframe thead tr:only-child th {\n",
       "        text-align: right;\n",
       "    }\n",
       "\n",
       "    .dataframe thead th {\n",
       "        text-align: left;\n",
       "    }\n",
       "\n",
       "    .dataframe tbody tr th {\n",
       "        vertical-align: top;\n",
       "    }\n",
       "</style>\n",
       "<table border=\"1\" class=\"dataframe\">\n",
       "  <thead>\n",
       "    <tr style=\"text-align: right;\">\n",
       "      <th></th>\n",
       "      <th>Unnamed: 0</th>\n",
       "      <th>user_id</th>\n",
       "      <th>user_name</th>\n",
       "      <th>reply_to_id</th>\n",
       "      <th>created</th>\n",
       "      <th>message</th>\n",
       "      <th>geodata</th>\n",
       "      <th>place_id</th>\n",
       "      <th>place_type</th>\n",
       "      <th>place_name</th>\n",
       "      <th>place_country</th>\n",
       "      <th>language</th>\n",
       "      <th>retweet_count</th>\n",
       "      <th>hashtags</th>\n",
       "      <th>user_mentions_name</th>\n",
       "      <th>user_mentions_id</th>\n",
       "      <th>urls</th>\n",
       "      <th>media_id</th>\n",
       "      <th>media_type</th>\n",
       "      <th>media_url</th>\n",
       "    </tr>\n",
       "    <tr>\n",
       "      <th>tweet_id</th>\n",
       "      <th></th>\n",
       "      <th></th>\n",
       "      <th></th>\n",
       "      <th></th>\n",
       "      <th></th>\n",
       "      <th></th>\n",
       "      <th></th>\n",
       "      <th></th>\n",
       "      <th></th>\n",
       "      <th></th>\n",
       "      <th></th>\n",
       "      <th></th>\n",
       "      <th></th>\n",
       "      <th></th>\n",
       "      <th></th>\n",
       "      <th></th>\n",
       "      <th></th>\n",
       "      <th></th>\n",
       "      <th></th>\n",
       "      <th></th>\n",
       "    </tr>\n",
       "  </thead>\n",
       "  <tbody>\n",
       "    <tr>\n",
       "      <th>885401672448589824</th>\n",
       "      <td>1</td>\n",
       "      <td>43302304</td>\n",
       "      <td>Motor Mavens</td>\n",
       "      <td>NaN</td>\n",
       "      <td>Thu Jul 13 07:33:03 +0000 2017</td>\n",
       "      <td>The @oemaudioplus #86Vantage's interior just l...</td>\n",
       "      <td>NaN</td>\n",
       "      <td>NaN</td>\n",
       "      <td>NaN</td>\n",
       "      <td>NaN</td>\n",
       "      <td>NaN</td>\n",
       "      <td>en</td>\n",
       "      <td>0</td>\n",
       "      <td>86Vantage;DAMD</td>\n",
       "      <td>OEM AUDIO PLUS</td>\n",
       "      <td>137555927</td>\n",
       "      <td>http://fb.me/6IdLxl68T</td>\n",
       "      <td>NaN</td>\n",
       "      <td>NaN</td>\n",
       "      <td>NaN</td>\n",
       "    </tr>\n",
       "    <tr>\n",
       "      <th>772829925279752196</th>\n",
       "      <td>2</td>\n",
       "      <td>94512824</td>\n",
       "      <td>Caspar de Kiefte</td>\n",
       "      <td>NaN</td>\n",
       "      <td>Mon Sep 05 16:13:07 +0000 2016</td>\n",
       "      <td>#DAMD -&amp;gt; via Kunstenbond onderdeel van inte...</td>\n",
       "      <td>NaN</td>\n",
       "      <td>NaN</td>\n",
       "      <td>NaN</td>\n",
       "      <td>NaN</td>\n",
       "      <td>NaN</td>\n",
       "      <td>nl</td>\n",
       "      <td>0</td>\n",
       "      <td>DAMD</td>\n",
       "      <td>NaN</td>\n",
       "      <td>NaN</td>\n",
       "      <td>http://damd.nl/nieuws/damd-via-kunstenbond-ver...</td>\n",
       "      <td>NaN</td>\n",
       "      <td>NaN</td>\n",
       "      <td>NaN</td>\n",
       "    </tr>\n",
       "    <tr>\n",
       "      <th>828122222111764480</th>\n",
       "      <td>3</td>\n",
       "      <td>798400767975686144</td>\n",
       "      <td>Bec</td>\n",
       "      <td>NaN</td>\n",
       "      <td>Sun Feb 05 06:04:58 +0000 2017</td>\n",
       "      <td>@Budah96 @sarahbuya4 #Damd Olivia went and too...</td>\n",
       "      <td>NaN</td>\n",
       "      <td>NaN</td>\n",
       "      <td>NaN</td>\n",
       "      <td>NaN</td>\n",
       "      <td>NaN</td>\n",
       "      <td>en</td>\n",
       "      <td>0</td>\n",
       "      <td>Damd;Damd;Scandal;sogood</td>\n",
       "      <td>Spider-Paco The 🌮;Sarah</td>\n",
       "      <td>165599878;53990004</td>\n",
       "      <td>NaN</td>\n",
       "      <td>NaN</td>\n",
       "      <td>NaN</td>\n",
       "      <td>NaN</td>\n",
       "    </tr>\n",
       "  </tbody>\n",
       "</table>\n",
       "</div>"
      ],
      "text/plain": [
       "                    Unnamed: 0             user_id         user_name  \\\n",
       "tweet_id                                                               \n",
       "885401672448589824           1            43302304      Motor Mavens   \n",
       "772829925279752196           2            94512824  Caspar de Kiefte   \n",
       "828122222111764480           3  798400767975686144               Bec   \n",
       "\n",
       "                    reply_to_id                         created  \\\n",
       "tweet_id                                                          \n",
       "885401672448589824          NaN  Thu Jul 13 07:33:03 +0000 2017   \n",
       "772829925279752196          NaN  Mon Sep 05 16:13:07 +0000 2016   \n",
       "828122222111764480          NaN  Sun Feb 05 06:04:58 +0000 2017   \n",
       "\n",
       "                                                              message geodata  \\\n",
       "tweet_id                                                                        \n",
       "885401672448589824  The @oemaudioplus #86Vantage's interior just l...     NaN   \n",
       "772829925279752196  #DAMD -&gt; via Kunstenbond onderdeel van inte...     NaN   \n",
       "828122222111764480  @Budah96 @sarahbuya4 #Damd Olivia went and too...     NaN   \n",
       "\n",
       "                   place_id place_type place_name place_country language  \\\n",
       "tweet_id                                                                   \n",
       "885401672448589824      NaN        NaN        NaN           NaN       en   \n",
       "772829925279752196      NaN        NaN        NaN           NaN       nl   \n",
       "828122222111764480      NaN        NaN        NaN           NaN       en   \n",
       "\n",
       "                    retweet_count                  hashtags  \\\n",
       "tweet_id                                                      \n",
       "885401672448589824              0            86Vantage;DAMD   \n",
       "772829925279752196              0                      DAMD   \n",
       "828122222111764480              0  Damd;Damd;Scandal;sogood   \n",
       "\n",
       "                         user_mentions_name    user_mentions_id  \\\n",
       "tweet_id                                                          \n",
       "885401672448589824           OEM AUDIO PLUS           137555927   \n",
       "772829925279752196                      NaN                 NaN   \n",
       "828122222111764480  Spider-Paco The 🌮;Sarah  165599878;53990004   \n",
       "\n",
       "                                                                 urls  \\\n",
       "tweet_id                                                                \n",
       "885401672448589824                             http://fb.me/6IdLxl68T   \n",
       "772829925279752196  http://damd.nl/nieuws/damd-via-kunstenbond-ver...   \n",
       "828122222111764480                                                NaN   \n",
       "\n",
       "                   media_id media_type media_url  \n",
       "tweet_id                                          \n",
       "885401672448589824      NaN        NaN       NaN  \n",
       "772829925279752196      NaN        NaN       NaN  \n",
       "828122222111764480      NaN        NaN       NaN  "
      ]
     },
     "execution_count": 6,
     "metadata": {},
     "output_type": "execute_result"
    }
   ],
   "source": [
    "damd = pd.read_csv(\"20170718 hashtag_damd uncleaned.csv\", index_col=\"tweet_id\")\n",
    "damd.head(3)"
   ]
  },
  {
   "cell_type": "markdown",
   "metadata": {},
   "source": [
    "## Hashtag co-occurrence graph creation\n",
    "\n",
    "To find patterns in the data, we might look at #hashtags, and if we can identify some interesting patterns in them. Cooccurrence is a useful thing to look at, and can easily be done in Twitter data.\n",
    "\n",
    "We might want to bipartite graph (\"network\") $g = \\langle N, V \\rangle$, where $N = \\{{node}_1, {node}_2 \\ldots {node}_n\\}$ is a set of nodes (\"spheres\"), and $V = \\{{\\langle source, target \\rangle_1, \\langle source, target \\rangle _2 \\ldots \\langle source, target \\rangle _m }\\}$ set of edges (\"lines\") of tweets and hashtags, to analyze hashtag co-occurrence.\n",
    "\n",
    "A *bipartite* graph has two types of nodes, which are not connected within the type, only across. In our case, hashtags are connected to tweets, but tweets are not *directly* connected to tweets, and hashtags are not directly connected to hashtags. Makes sense, right?\n",
    "\n",
    "This data manipulation process can be done with [*Table 2 Net*](http://tools.medialab.sciences-po.fr/table2net/). But doing so programmatically is a different way to do it. We will use Python library called *NetworkX*.\n",
    "\n",
    "Below is a Gephi visualization of a graph made with Table 2 Net, coloured by node type <span style='color: salmon;'>red for tweets</span> and <span style='color: lightgreen;'>green for hashtags</span>, and showing labels for the hashtag nodes with degree of 15 or larger. We have used the algorithm *ForceAtlas2* in Gephi for positioning the nodes. The central node, hashtag `damd` has been hidden, because it carries no information.\n",
    "\n",
    "![](hashtag-cooccurrence-bipartite-with-table2net.png)"
   ]
  },
  {
   "cell_type": "markdown",
   "metadata": {},
   "source": [
    "First let's take a peek at the shape of the hashtags, how they are stored in the data we have received."
   ]
  },
  {
   "cell_type": "code",
   "execution_count": 7,
   "metadata": {},
   "outputs": [
    {
     "data": {
      "text/plain": [
       "tweet_id\n",
       "885401672448589824                86Vantage;DAMD\n",
       "772829925279752196                          DAMD\n",
       "828122222111764480      Damd;Damd;Scandal;sogood\n",
       "869614229619224576                          Damd\n",
       "862237577822318592    S206;DAMD;SUBARU;TOPRACING\n",
       "Name: hashtags, dtype: object"
      ]
     },
     "execution_count": 7,
     "metadata": {},
     "output_type": "execute_result"
    }
   ],
   "source": [
    "damd.hashtags.head()"
   ]
  },
  {
   "cell_type": "markdown",
   "metadata": {},
   "source": [
    "We see that the `hashtag` column is itself a semicolon separated list, and our data is kind of three dimensional. We need to split it up.\n",
    "\n",
    "From reading the documentation, we know that `nx.Graph.add_edge()` requires input as a tuple `(source, target)`, describing one edge. For each tweet, we generate a list of it's hashtags, and then add those edges to the graph one by one. So, from the original data shape\n",
    "\n",
    "    tweet1 hashtag1;hashtag2;hashtag3\n",
    "    tweet2 hashtag9;hashtag4\n",
    "    .\n",
    "    .\n",
    "    .\n",
    "    \n",
    "We create an intermediary data shape for line 5\n",
    "\n",
    "    tweet1 hashtag1\n",
    "    tweet1 hashtag2\n",
    "    tweet1 hashtag3\n",
    "    tweet2 hashtag9\n",
    "    tweet2 hashtag4\n",
    "    .\n",
    "    .\n",
    "    .\n",
    "\n",
    "This suits what the NetworkX API expects.\n",
    "\n",
    "Conveniently NetworkX automatically creates the nodes, so we don't have to think about them. How can it automatically know what the nodes are, if it only looks at links?"
   ]
  },
  {
   "cell_type": "code",
   "execution_count": 8,
   "metadata": {
    "collapsed": true
   },
   "outputs": [],
   "source": [
    "def buildHashtagCooccurrenceGraph(tweets):\n",
    "    g = nx.Graph(name=\"Hashtag co-occurrence bipartite\")\n",
    "    for tweet, hashtags in damd.hashtags.astype(str).map(lambda l: l.split(';')).items():\n",
    "        g.add_node(tweet, Type=\"tweet_id\")\n",
    "        for hashtag in hashtags:\n",
    "            g.add_edge(tweet, hashtag.lower())\n",
    "    return g"
   ]
  },
  {
   "cell_type": "code",
   "execution_count": 9,
   "metadata": {
    "collapsed": true
   },
   "outputs": [],
   "source": [
    "g = buildHashtagCooccurrenceGraph(damd)"
   ]
  },
  {
   "cell_type": "markdown",
   "metadata": {},
   "source": [
    "Now, let's briefly inspect the graph `g` we created."
   ]
  },
  {
   "cell_type": "code",
   "execution_count": 10,
   "metadata": {
    "scrolled": false
   },
   "outputs": [
    {
     "name": "stdout",
     "output_type": "stream",
     "text": [
      "Name: Hashtag co-occurrence bipartite\n",
      "Type: Graph\n",
      "Number of nodes: 2760\n",
      "Number of edges: 4798\n",
      "Average degree:   3.4768\n"
     ]
    }
   ],
   "source": [
    "print(nx.info(g))"
   ]
  },
  {
   "cell_type": "markdown",
   "metadata": {},
   "source": [
    "Save to file, for opening in Gephi."
   ]
  },
  {
   "cell_type": "code",
   "execution_count": 9,
   "metadata": {
    "collapsed": true
   },
   "outputs": [],
   "source": [
    "nx.write_gexf(g, \"hashtag-cooccurrence-bipartite-with-python.gexf\")"
   ]
  },
  {
   "cell_type": "markdown",
   "metadata": {},
   "source": [
    "## Compare the results of graph creation with *Table 2 Net* and Python\n",
    "\n",
    "Read in the graph made with *Table 2 Net*."
   ]
  },
  {
   "cell_type": "code",
   "execution_count": 10,
   "metadata": {},
   "outputs": [
    {
     "name": "stdout",
     "output_type": "stream",
     "text": [
      "Name: \n",
      "Type: Graph\n",
      "Number of nodes: 2760\n",
      "Number of edges: 4798\n",
      "Average degree:   3.4768\n"
     ]
    }
   ],
   "source": [
    "g_table2net = nx.read_gexf(\"hashtag-cooccurrence-bipartite-with-table2net.gexf\")\n",
    "print(nx.info(g_table2net))"
   ]
  },
  {
   "cell_type": "markdown",
   "metadata": {},
   "source": [
    "After poking around in Gephi for half an hour setting colours and filters, positioning with *ForceAtlas2* and outputting an image, here is a visualization of the graph. It should be equal to the one above, which was visualized from a graph constructed from the data with Table 2 Net.\n",
    "\n",
    "![](hashtag-cooccurrence-bipartite-with-python.png)"
   ]
  },
  {
   "cell_type": "markdown",
   "metadata": {},
   "source": [
    "In graph theory, \"isomorphism\" (ἴσος isos \"equal\", and μορφή morphe \"form\" or \"shape\") means that graphs are of the same shape. Why do want to know this? We want to inspect if we successfully reproduced the process that *Table 2 Net* did."
   ]
  },
  {
   "cell_type": "code",
   "execution_count": 11,
   "metadata": {},
   "outputs": [
    {
     "data": {
      "text/plain": [
       "True"
      ]
     },
     "execution_count": 11,
     "metadata": {},
     "output_type": "execute_result"
    }
   ],
   "source": [
    "# This algoritm is not guaranteed, but it is fast\n",
    "nx.isomorphism.fast_could_be_isomorphic(g, g_table2net)"
   ]
  },
  {
   "cell_type": "markdown",
   "metadata": {},
   "source": [
    "Did we \"open the black box\" of *Table 2 Net* and *Gephi*?"
   ]
  }
 ],
 "metadata": {
  "kernelspec": {
   "display_name": "Python 3",
   "language": "python",
   "name": "python3"
  },
  "language_info": {
   "codemirror_mode": {
    "name": "ipython",
    "version": 3
   },
   "file_extension": ".py",
   "mimetype": "text/x-python",
   "name": "python",
   "nbconvert_exporter": "python",
   "pygments_lexer": "ipython3",
   "version": "3.6.1"
  }
 },
 "nbformat": 4,
 "nbformat_minor": 2
}
