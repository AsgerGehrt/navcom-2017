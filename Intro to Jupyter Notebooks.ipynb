{
 "cells": [
  {
   "cell_type": "markdown",
   "metadata": {},
   "source": [
    "# Introduction to Jupyter Notebooks on *Navigating Complexity*\n",
    "\n",
    "<img src=\"http://jupyter.org/assets/jupyterpreview.png\" style=\"height: 300px; float: right;\"> </img>\n",
    "\n",
    "On *Navigating Complexity* you keep \"a lab notebook\". It serves as your journal, notebook, sketchbook, diary, and more. Your notes are your own, and freeform. For note keeping, we use [*Jupyter Notebooks*](http://jupyter.org/). There are five submissions during the course, on weeks 7, 10 and 13 you will submit your lab notebook. Also some of the course content, e.g. Thursday exercises and extra content are in this format.\n",
    "\n",
    "Jupyter Notebooks are a document format and what makes them special, is that parts of the document are meant for humans, and parts for computers. For the latter, we use the Python programming language.\n",
    "\n",
    "Notebooks are structured much like a text, running from beginning to the end. The prose can be interleaved with code, and computed output. It can be something very simple such as"
   ]
  },
  {
   "cell_type": "code",
   "execution_count": 1,
   "metadata": {},
   "outputs": [
    {
     "data": {
      "text/plain": [
       "23"
      ]
     },
     "execution_count": 1,
     "metadata": {},
     "output_type": "execute_result"
    }
   ],
   "source": [
    "len(\"in all honesty, counting all the words in a sentence is best done in a computers mind. It doesn't mind counting at all\".split())"
   ]
  },
  {
   "cell_type": "markdown",
   "metadata": {},
   "source": [
    "Or how many unique words are there."
   ]
  },
  {
   "cell_type": "code",
   "execution_count": 2,
   "metadata": {},
   "outputs": [
    {
     "data": {
      "text/plain": [
       "17"
      ]
     },
     "execution_count": 2,
     "metadata": {},
     "output_type": "execute_result"
    }
   ],
   "source": [
    "len(set(\"in all honesty, counting all the words in a sentence is best done in a computers mind. It doesn't mind counting at all\".split()))"
   ]
  },
  {
   "cell_type": "markdown",
   "metadata": {},
   "source": [
    "Or something more complicated, such as defining how a graph is produced."
   ]
  },
  {
   "cell_type": "code",
   "execution_count": 3,
   "metadata": {},
   "outputs": [
    {
     "data": {
      "image/png": "[encoded data removed]",
      "text/plain": [
       "<matplotlib.figure.Figure at 0x103cf7a58>"
      ]
     },
     "metadata": {},
     "output_type": "display_data"
    }
   ],
   "source": [
    "# Setup by importing some libraries and configuring a few things\n",
    "import numpy as np\n",
    "import matplotlib.pyplot as plt\n",
    "import ipywidgets\n",
    "%matplotlib inline\n",
    "\n",
    "# Create two random datasets\n",
    "data = np.random.random(15)\n",
    "smallerdata = np.random.random(15) * 0.3\n",
    "\n",
    "# Define a plotting function\n",
    "def drawPlot():\n",
    "    fig, ax = plt.subplots()\n",
    "    ax.plot(range(len(data)), data, label=\"random data\");\n",
    "    ax.plot(range(len(smallerdata)), smallerdata, 'r--', label=\"smaller random data\");\n",
    "    plt.title(\"Two random dataset compared\");\n",
    "    ax.grid(axis='y');\n",
    "    ax.legend(loc='upper right');\n",
    "    return fig, ax\n",
    "\n",
    "# Draw the plot\n",
    "fig, ax = drawPlot()\n",
    "plt.show()"
   ]
  },
  {
   "cell_type": "markdown",
   "metadata": {},
   "source": [
    "Or even something interactive, such as"
   ]
  },
  {
   "cell_type": "code",
   "execution_count": 4,
   "metadata": {},
   "outputs": [
    {
     "data": {
      "application/vnd.jupyter.widget-view+json": {
       "model_id": "be1ab9c06e044db0ab614185d7a818f5"
      }
     },
     "metadata": {},
     "output_type": "display_data"
    }
   ],
   "source": [
    "# Define an interactive plotting function\n",
    "def updatePlot(s=0):\n",
    "    print(\"data {0:.2f}, smallerdata {1:.2f}\".format(data[s], smallerdata[s]))\n",
    "    fig, ax = drawPlot()\n",
    "    ax.axvline(s, color=\"grey\", linestyle='dotted')\n",
    "    ax.annotate(s=round(data[s], 2),\n",
    "                 xy=(s, data[s]),\n",
    "                 xytext=(s + 2, 0.5),\n",
    "                 arrowprops={'arrowstyle': '->'});\n",
    "    ax.annotate(s=round(smallerdata[s], 2),\n",
    "                 xy=(s, smallerdata[s]),\n",
    "                 xytext=(s + 2, 0.3),\n",
    "                 arrowprops={'arrowstyle': '->'});\n",
    "    plt.show();\n",
    "\n",
    "# Define an interactive slider for exploring the data\n",
    "slider = ipywidgets.interactive(updatePlot, s=(0, len(data) - 1, 1));\n",
    "display(slider)"
   ]
  },
  {
   "cell_type": "markdown",
   "metadata": {},
   "source": [
    "We don't do any programming on this course and use them simply for text editing, but we will get to see some software code. Jupyter Notebooks are perfect for that.\n",
    "\n",
    "![](https://upload.wikimedia.org/wikipedia/commons/a/a6/Galileo_manuscript.png)"
   ]
  },
  {
   "cell_type": "markdown",
   "metadata": {},
   "source": [
    "## Required software\n",
    "\n",
    "For NavCom, you will need the following software:\n",
    "\n",
    "* *Python 3* programming language\n",
    "* *Jupyter* and the notebook extension\n",
    "* Python libraries `Numpy`, `matplotlib`, `Pandas`, `NetworkX` and `ipywidgets`\n",
    "\n",
    "Install all of them on your computer at the beginning of the course. You can get Python 3 from https://python.org. After installing Python 3, install the others by running the following command at the command line, by first opening the command line (Terminal on OSX, and `cmd` on Windows):\n",
    "\n",
    "    pip3 install jupyter notebook numpy pandas networkx ipywidgets\n",
    "    \n",
    "Alternatively you can install Anaconda, which includes all of these things.\n",
    "\n",
    "In addition you need *git* to download some of the Thursday assignments. Just Google for it."
   ]
  },
  {
   "cell_type": "markdown",
   "metadata": {},
   "source": [
    "## Necessary beginning skills\n",
    "\n",
    "You can learn about Jupyter Notebooks best by watching a short introduction video or two on YouTube, and going through a tutorial. There are plenty online.\n",
    "\n",
    "Make sure you learn the following concepts about Jupyter Notebooks:\n",
    "\n",
    "* cells\n",
    "* the two cell types: Markdown and code\n",
    "* and what is *Markdown*\n",
    "* edit and view modes\n",
    "* how to render Markdown cells and run code, by pressing `Ctrl-Enter`\n",
    "* how to start and stop the notebook server\n",
    "\n",
    "Some of the [Thursday exercises are distributed via GitHub](https://github.com/ituethoslab/navcom-2017). Get them on your computer by running the following command once on the command line\n",
    "\n",
    "    git clone https://github.com/ituethoslab/navcom-2017.git\n",
    "\n",
    "And then to following commands on the command line once a week, at the beginning of the exercises, to receive updates\n",
    "\n",
    "    cd navcom-2017\n",
    "    git pull\n",
    "\n",
    "And then, again on the command line\n",
    "\n",
    "    jupyter notebook\n",
    "\n",
    "To start the notebook system. Feel free to edit your copies of the exercise notebooks."
   ]
  }
 ],
 "metadata": {
  "kernelspec": {
   "display_name": "Python 3",
   "language": "python",
   "name": "python3"
  },
  "language_info": {
   "codemirror_mode": {
    "name": "ipython",
    "version": 3
   },
   "file_extension": ".py",
   "mimetype": "text/x-python",
   "name": "python",
   "nbconvert_exporter": "python",
   "pygments_lexer": "ipython3",
   "version": "3.6.2"
  }
 },
 "nbformat": 4,
 "nbformat_minor": 2
}
